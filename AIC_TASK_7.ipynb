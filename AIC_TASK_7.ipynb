{
  "nbformat": 4,
  "nbformat_minor": 0,
  "metadata": {
    "colab": {
      "provenance": []
    },
    "kernelspec": {
      "name": "python3",
      "display_name": "Python 3"
    },
    "language_info": {
      "name": "python"
    }
  },
  "cells": [
    {
      "cell_type": "code",
      "source": [
        "# SYEDA ZAINAB FATIMA\n",
        "# WS25-PAK-INP-AI01"
      ],
      "metadata": {
        "id": "9npKvKlGNtSC"
      },
      "execution_count": null,
      "outputs": []
    },
    {
      "cell_type": "code",
      "source": [
        "# FOR LOOP AND NESTED LOOP"
      ],
      "metadata": {
        "id": "QhsAcJLZFQuC"
      },
      "execution_count": null,
      "outputs": []
    },
    {
      "cell_type": "code",
      "source": [
        "# FOR LOOP\n",
        "for i in range(10):\n",
        "  print(i)\n"
      ],
      "metadata": {
        "colab": {
          "base_uri": "https://localhost:8080/"
        },
        "id": "6hx1ZIOHFQyS",
        "outputId": "a156d11d-f3e1-4f9c-9981-044ccb986fe0"
      },
      "execution_count": 1,
      "outputs": [
        {
          "output_type": "stream",
          "name": "stdout",
          "text": [
            "0\n",
            "1\n",
            "2\n",
            "3\n",
            "4\n",
            "5\n",
            "6\n",
            "7\n",
            "8\n",
            "9\n"
          ]
        }
      ]
    },
    {
      "cell_type": "code",
      "source": [
        "for i in range(2,13):\n",
        "  print(i)"
      ],
      "metadata": {
        "colab": {
          "base_uri": "https://localhost:8080/"
        },
        "id": "2R5-thK4IQf5",
        "outputId": "ac2f6536-eedd-4bda-8caa-1cc7e4ee9dad"
      },
      "execution_count": 2,
      "outputs": [
        {
          "output_type": "stream",
          "name": "stdout",
          "text": [
            "2\n",
            "3\n",
            "4\n",
            "5\n",
            "6\n",
            "7\n",
            "8\n",
            "9\n",
            "10\n",
            "11\n",
            "12\n"
          ]
        }
      ]
    },
    {
      "cell_type": "code",
      "source": [
        "for i in \"Pakistan\":\n",
        "  print(i)"
      ],
      "metadata": {
        "colab": {
          "base_uri": "https://localhost:8080/"
        },
        "id": "3OFC3otgIQkQ",
        "outputId": "5bf5aa40-d15b-4314-f892-0cf9ca9f0281"
      },
      "execution_count": 3,
      "outputs": [
        {
          "output_type": "stream",
          "name": "stdout",
          "text": [
            "P\n",
            "a\n",
            "k\n",
            "i\n",
            "s\n",
            "t\n",
            "a\n",
            "n\n"
          ]
        }
      ]
    },
    {
      "cell_type": "code",
      "source": [
        "for x in \"AI Cadmey\":\n",
        "  print(x)"
      ],
      "metadata": {
        "colab": {
          "base_uri": "https://localhost:8080/"
        },
        "id": "E9-KTdTKIQox",
        "outputId": "e643a56f-9c78-4d86-a183-a84d34ca01d8"
      },
      "execution_count": 4,
      "outputs": [
        {
          "output_type": "stream",
          "name": "stdout",
          "text": [
            "A\n",
            "I\n",
            " \n",
            "C\n",
            "a\n",
            "d\n",
            "m\n",
            "e\n",
            "y\n"
          ]
        }
      ]
    },
    {
      "cell_type": "code",
      "source": [
        "for x in \"SPACE EXPLORATION\":\n",
        "  print(x)"
      ],
      "metadata": {
        "colab": {
          "base_uri": "https://localhost:8080/"
        },
        "id": "EqLbTU9zIQto",
        "outputId": "9743b41c-9c75-4ddf-ef05-e26e2eeae6e3"
      },
      "execution_count": 5,
      "outputs": [
        {
          "output_type": "stream",
          "name": "stdout",
          "text": [
            "S\n",
            "P\n",
            "A\n",
            "C\n",
            "E\n",
            " \n",
            "E\n",
            "X\n",
            "P\n",
            "L\n",
            "O\n",
            "R\n",
            "A\n",
            "T\n",
            "I\n",
            "O\n",
            "N\n"
          ]
        }
      ]
    },
    {
      "cell_type": "code",
      "source": [
        "name = \"SyedaZainabFatima\"\n",
        "for x in name:\n",
        "  print(name)"
      ],
      "metadata": {
        "colab": {
          "base_uri": "https://localhost:8080/"
        },
        "id": "-WANrqylIQ0t",
        "outputId": "fb284076-4bf4-4229-a7fb-db1a1a1d9599"
      },
      "execution_count": 18,
      "outputs": [
        {
          "output_type": "stream",
          "name": "stdout",
          "text": [
            "SyedaZainabFatima\n",
            "SyedaZainabFatima\n",
            "SyedaZainabFatima\n",
            "SyedaZainabFatima\n",
            "SyedaZainabFatima\n",
            "SyedaZainabFatima\n",
            "SyedaZainabFatima\n",
            "SyedaZainabFatima\n",
            "SyedaZainabFatima\n",
            "SyedaZainabFatima\n",
            "SyedaZainabFatima\n",
            "SyedaZainabFatima\n",
            "SyedaZainabFatima\n",
            "SyedaZainabFatima\n",
            "SyedaZainabFatima\n",
            "SyedaZainabFatima\n",
            "SyedaZainabFatima\n"
          ]
        }
      ]
    },
    {
      "cell_type": "code",
      "source": [
        "interest = \"Space exploration\"\n",
        "for i in interest:\n",
        "  print(interest)\n",
        "\n"
      ],
      "metadata": {
        "colab": {
          "base_uri": "https://localhost:8080/"
        },
        "id": "6wOhFWBLIQ6p",
        "outputId": "f8aa74e5-3b38-4afc-8f8e-e085d2e0aa20"
      },
      "execution_count": 13,
      "outputs": [
        {
          "output_type": "stream",
          "name": "stdout",
          "text": [
            "Space exploration\n",
            "Space exploration\n",
            "Space exploration\n",
            "Space exploration\n",
            "Space exploration\n",
            "Space exploration\n",
            "Space exploration\n",
            "Space exploration\n",
            "Space exploration\n",
            "Space exploration\n",
            "Space exploration\n",
            "Space exploration\n",
            "Space exploration\n",
            "Space exploration\n",
            "Space exploration\n",
            "Space exploration\n",
            "Space exploration\n"
          ]
        }
      ]
    },
    {
      "cell_type": "code",
      "source": [
        "for i in range(5):\n",
        "  print(\"Space Exploration\")"
      ],
      "metadata": {
        "colab": {
          "base_uri": "https://localhost:8080/"
        },
        "id": "YD3xpSqkIQ9q",
        "outputId": "15f008e9-7c51-487c-cbcb-335788dd3d80"
      },
      "execution_count": 16,
      "outputs": [
        {
          "output_type": "stream",
          "name": "stdout",
          "text": [
            "Space Exploration\n",
            "Space Exploration\n",
            "Space Exploration\n",
            "Space Exploration\n",
            "Space Exploration\n"
          ]
        }
      ]
    },
    {
      "cell_type": "code",
      "source": [
        "for x in range(5,10):\n",
        "  print(\"AI Cadmey\")"
      ],
      "metadata": {
        "colab": {
          "base_uri": "https://localhost:8080/"
        },
        "id": "8QIW6gtBIRA4",
        "outputId": "06a651bf-46b7-4a48-ffa3-c3d79e7da01e"
      },
      "execution_count": 17,
      "outputs": [
        {
          "output_type": "stream",
          "name": "stdout",
          "text": [
            "AI Cadmey\n",
            "AI Cadmey\n",
            "AI Cadmey\n",
            "AI Cadmey\n",
            "AI Cadmey\n"
          ]
        }
      ]
    },
    {
      "cell_type": "code",
      "source": [
        "for x in range(10,16):\n",
        "  print(\"I am a graduate student\")\n",
        "  print(\"I am studying AI\")"
      ],
      "metadata": {
        "colab": {
          "base_uri": "https://localhost:8080/"
        },
        "id": "WcF8U7kLIRDy",
        "outputId": "889cc6b3-b553-4123-8aa8-4706b4e69c67"
      },
      "execution_count": 19,
      "outputs": [
        {
          "output_type": "stream",
          "name": "stdout",
          "text": [
            "I am a graduate student\n",
            "I am studying AI\n",
            "I am a graduate student\n",
            "I am studying AI\n",
            "I am a graduate student\n",
            "I am studying AI\n",
            "I am a graduate student\n",
            "I am studying AI\n",
            "I am a graduate student\n",
            "I am studying AI\n",
            "I am a graduate student\n",
            "I am studying AI\n"
          ]
        }
      ]
    },
    {
      "cell_type": "code",
      "source": [
        "for z in range(5):\n",
        "  print(\"Aspiring AI\")"
      ],
      "metadata": {
        "colab": {
          "base_uri": "https://localhost:8080/"
        },
        "id": "pgG8L4f9Yoef",
        "outputId": "29278fbb-72a0-44f4-8ea4-7e4e47c40e64"
      },
      "execution_count": 44,
      "outputs": [
        {
          "output_type": "stream",
          "name": "stdout",
          "text": [
            "Aspiring AI\n",
            "Aspiring AI\n",
            "Aspiring AI\n",
            "Aspiring AI\n",
            "Aspiring AI\n"
          ]
        }
      ]
    },
    {
      "cell_type": "code",
      "source": [
        "Platform_1= \"Linkdin\"\n",
        "Platform_2= \"github\"\n",
        "for x in Platform_1:\n",
        "  print(Platform_1)\n",
        "for y in Platform_2:\n",
        "  print(Platform_2)\n"
      ],
      "metadata": {
        "colab": {
          "base_uri": "https://localhost:8080/"
        },
        "id": "kylpTbYQZ1QW",
        "outputId": "d4bb8a4b-ce0f-436a-cd9d-3a13b3443687"
      },
      "execution_count": 48,
      "outputs": [
        {
          "output_type": "stream",
          "name": "stdout",
          "text": [
            "Linkdin\n",
            "Linkdin\n",
            "Linkdin\n",
            "Linkdin\n",
            "Linkdin\n",
            "Linkdin\n",
            "Linkdin\n",
            "github\n",
            "github\n",
            "github\n",
            "github\n",
            "github\n",
            "github\n"
          ]
        }
      ]
    },
    {
      "cell_type": "code",
      "source": [
        "Instructor_names_1 = \"Aeman\"\n",
        "Instructor_names_2 = \"Eman\"\n",
        "Instructor_names_3 = \"Zain ul Abideen\"\n",
        "\n",
        "for y in range(4):\n",
        "  print(Instructor_names_1)\n",
        "  print(Instructor_names_2)\n",
        "  print(Instructor_names_3)"
      ],
      "metadata": {
        "colab": {
          "base_uri": "https://localhost:8080/"
        },
        "id": "LHwUzFbJYo7y",
        "outputId": "60e9414d-3344-4261-b378-7a0d47419500"
      },
      "execution_count": 50,
      "outputs": [
        {
          "output_type": "stream",
          "name": "stdout",
          "text": [
            "Aeman\n",
            "Eman\n",
            "Zain ul Abideen\n",
            "Aeman\n",
            "Eman\n",
            "Zain ul Abideen\n",
            "Aeman\n",
            "Eman\n",
            "Zain ul Abideen\n",
            "Aeman\n",
            "Eman\n",
            "Zain ul Abideen\n"
          ]
        }
      ]
    },
    {
      "cell_type": "code",
      "source": [
        "name = \"Syeda Zainab Fatima\"\n",
        "interest_1 = \"Space\"\n",
        "interest_2 = \"Multiverse and time travel\"\n",
        "Domain = \"AI\"\n",
        "for i in range(5):\n",
        "  print(name)\n",
        "  print(interest)\n",
        "  print(interest_2)\n",
        "  print(Domain)"
      ],
      "metadata": {
        "colab": {
          "base_uri": "https://localhost:8080/"
        },
        "id": "dPAxpld2a8vC",
        "outputId": "51dbc70d-0cdd-49a1-e103-5fc9e6db274a"
      },
      "execution_count": 53,
      "outputs": [
        {
          "output_type": "stream",
          "name": "stdout",
          "text": [
            "Syeda Zainab Fatima\n",
            "Space\n",
            "Multiverse and time travel\n",
            "AI\n",
            "Syeda Zainab Fatima\n",
            "Space\n",
            "Multiverse and time travel\n",
            "AI\n",
            "Syeda Zainab Fatima\n",
            "Space\n",
            "Multiverse and time travel\n",
            "AI\n",
            "Syeda Zainab Fatima\n",
            "Space\n",
            "Multiverse and time travel\n",
            "AI\n",
            "Syeda Zainab Fatima\n",
            "Space\n",
            "Multiverse and time travel\n",
            "AI\n"
          ]
        }
      ]
    },
    {
      "cell_type": "code",
      "source": [
        "# NESTED LOOP\n",
        "for i in range(3):\n",
        "  print(i)\n",
        "  for j in range(5):\n",
        "    print(i*j)"
      ],
      "metadata": {
        "colab": {
          "base_uri": "https://localhost:8080/"
        },
        "id": "NSx3RJ8dIRKE",
        "outputId": "9beacf54-6930-4ad4-f62e-8bf3a43f8b9b"
      },
      "execution_count": 22,
      "outputs": [
        {
          "output_type": "stream",
          "name": "stdout",
          "text": [
            "0\n",
            "0\n",
            "0\n",
            "0\n",
            "0\n",
            "0\n",
            "1\n",
            "0\n",
            "1\n",
            "2\n",
            "3\n",
            "4\n",
            "2\n",
            "0\n",
            "2\n",
            "4\n",
            "6\n",
            "8\n"
          ]
        }
      ]
    },
    {
      "cell_type": "code",
      "source": [
        "for i in range(1,3):\n",
        "  print(\"space\")\n",
        "  for j in range(1,4):\n",
        "    print(i*j)"
      ],
      "metadata": {
        "colab": {
          "base_uri": "https://localhost:8080/"
        },
        "id": "BWqMiIZJIRNI",
        "outputId": "d7015ec8-463b-4ca9-fc5d-f2faae46f1d8"
      },
      "execution_count": 24,
      "outputs": [
        {
          "output_type": "stream",
          "name": "stdout",
          "text": [
            "space\n",
            "1\n",
            "2\n",
            "3\n",
            "space\n",
            "2\n",
            "4\n",
            "6\n"
          ]
        }
      ]
    },
    {
      "cell_type": "code",
      "source": [
        "for x in range(5):\n",
        "  print(\"My name is Zainab\")\n",
        "  for y in range(2,5):\n",
        "    print(\"I am a graduate student\")"
      ],
      "metadata": {
        "colab": {
          "base_uri": "https://localhost:8080/"
        },
        "id": "5pwcH82KIRQA",
        "outputId": "b1c6b2d3-5cec-44bd-99af-2ee5e8eac1c2"
      },
      "execution_count": 25,
      "outputs": [
        {
          "output_type": "stream",
          "name": "stdout",
          "text": [
            "My name is Zainab\n",
            "I am a graduate student\n",
            "I am a graduate student\n",
            "I am a graduate student\n",
            "My name is Zainab\n",
            "I am a graduate student\n",
            "I am a graduate student\n",
            "I am a graduate student\n",
            "My name is Zainab\n",
            "I am a graduate student\n",
            "I am a graduate student\n",
            "I am a graduate student\n",
            "My name is Zainab\n",
            "I am a graduate student\n",
            "I am a graduate student\n",
            "I am a graduate student\n",
            "My name is Zainab\n",
            "I am a graduate student\n",
            "I am a graduate student\n",
            "I am a graduate student\n"
          ]
        }
      ]
    },
    {
      "cell_type": "code",
      "source": [
        "for i in range(7):\n",
        "  print(\"Dark Matter\")\n",
        "  for j in range(5):\n",
        "    print(\"I Love Dark Matter\")"
      ],
      "metadata": {
        "colab": {
          "base_uri": "https://localhost:8080/"
        },
        "id": "QbAeN8rdIRS3",
        "outputId": "df10e36a-862d-4ace-bdfb-d619af310200"
      },
      "execution_count": 26,
      "outputs": [
        {
          "output_type": "stream",
          "name": "stdout",
          "text": [
            "Dark Matter\n",
            "I Love Dark Matter\n",
            "I Love Dark Matter\n",
            "I Love Dark Matter\n",
            "I Love Dark Matter\n",
            "I Love Dark Matter\n",
            "Dark Matter\n",
            "I Love Dark Matter\n",
            "I Love Dark Matter\n",
            "I Love Dark Matter\n",
            "I Love Dark Matter\n",
            "I Love Dark Matter\n",
            "Dark Matter\n",
            "I Love Dark Matter\n",
            "I Love Dark Matter\n",
            "I Love Dark Matter\n",
            "I Love Dark Matter\n",
            "I Love Dark Matter\n",
            "Dark Matter\n",
            "I Love Dark Matter\n",
            "I Love Dark Matter\n",
            "I Love Dark Matter\n",
            "I Love Dark Matter\n",
            "I Love Dark Matter\n",
            "Dark Matter\n",
            "I Love Dark Matter\n",
            "I Love Dark Matter\n",
            "I Love Dark Matter\n",
            "I Love Dark Matter\n",
            "I Love Dark Matter\n",
            "Dark Matter\n",
            "I Love Dark Matter\n",
            "I Love Dark Matter\n",
            "I Love Dark Matter\n",
            "I Love Dark Matter\n",
            "I Love Dark Matter\n",
            "Dark Matter\n",
            "I Love Dark Matter\n",
            "I Love Dark Matter\n",
            "I Love Dark Matter\n",
            "I Love Dark Matter\n",
            "I Love Dark Matter\n"
          ]
        }
      ]
    },
    {
      "cell_type": "code",
      "source": [
        "for i in range(3):\n",
        "  print(\"Zainab\")\n",
        "  for j in range(2):\n",
        "    print(i+j)"
      ],
      "metadata": {
        "colab": {
          "base_uri": "https://localhost:8080/"
        },
        "id": "2EmMA8zIIRWB",
        "outputId": "41dbfaca-4b77-4ad1-b251-a90feb938010"
      },
      "execution_count": 29,
      "outputs": [
        {
          "output_type": "stream",
          "name": "stdout",
          "text": [
            "Zainab\n",
            "0\n",
            "1\n",
            "Zainab\n",
            "1\n",
            "2\n",
            "Zainab\n",
            "2\n",
            "3\n"
          ]
        }
      ]
    },
    {
      "cell_type": "code",
      "source": [
        "for i in range(4):\n",
        "  print(\"Jupyter\")\n",
        "  for x in range(5):\n",
        "    print(\"the largest planet\")"
      ],
      "metadata": {
        "colab": {
          "base_uri": "https://localhost:8080/"
        },
        "id": "0hWm11pqTwPD",
        "outputId": "7ee7a4d9-08ad-4dcc-833d-4af3c7408cff"
      },
      "execution_count": 30,
      "outputs": [
        {
          "output_type": "stream",
          "name": "stdout",
          "text": [
            "Jupyter\n",
            "the largest planet\n",
            "the largest planet\n",
            "the largest planet\n",
            "the largest planet\n",
            "the largest planet\n",
            "Jupyter\n",
            "the largest planet\n",
            "the largest planet\n",
            "the largest planet\n",
            "the largest planet\n",
            "the largest planet\n",
            "Jupyter\n",
            "the largest planet\n",
            "the largest planet\n",
            "the largest planet\n",
            "the largest planet\n",
            "the largest planet\n",
            "Jupyter\n",
            "the largest planet\n",
            "the largest planet\n",
            "the largest planet\n",
            "the largest planet\n",
            "the largest planet\n"
          ]
        }
      ]
    },
    {
      "cell_type": "code",
      "source": [
        "for i in range(5,15):\n",
        "  print(\"Hello I am an intern at AI Cadmey , I am very excited to learn about space and AI\")\n",
        "  for j in range(5):\n",
        "    print(i+j)"
      ],
      "metadata": {
        "colab": {
          "base_uri": "https://localhost:8080/"
        },
        "id": "tvBbjE0cIRZt",
        "outputId": "de265c5a-cad6-4867-b163-653ad5993845"
      },
      "execution_count": 35,
      "outputs": [
        {
          "output_type": "stream",
          "name": "stdout",
          "text": [
            "Hello I am an intern at AI Cadmey , I am very excited to learn about space and AI\n",
            "5\n",
            "6\n",
            "7\n",
            "8\n",
            "9\n",
            "Hello I am an intern at AI Cadmey , I am very excited to learn about space and AI\n",
            "6\n",
            "7\n",
            "8\n",
            "9\n",
            "10\n",
            "Hello I am an intern at AI Cadmey , I am very excited to learn about space and AI\n",
            "7\n",
            "8\n",
            "9\n",
            "10\n",
            "11\n",
            "Hello I am an intern at AI Cadmey , I am very excited to learn about space and AI\n",
            "8\n",
            "9\n",
            "10\n",
            "11\n",
            "12\n",
            "Hello I am an intern at AI Cadmey , I am very excited to learn about space and AI\n",
            "9\n",
            "10\n",
            "11\n",
            "12\n",
            "13\n",
            "Hello I am an intern at AI Cadmey , I am very excited to learn about space and AI\n",
            "10\n",
            "11\n",
            "12\n",
            "13\n",
            "14\n",
            "Hello I am an intern at AI Cadmey , I am very excited to learn about space and AI\n",
            "11\n",
            "12\n",
            "13\n",
            "14\n",
            "15\n",
            "Hello I am an intern at AI Cadmey , I am very excited to learn about space and AI\n",
            "12\n",
            "13\n",
            "14\n",
            "15\n",
            "16\n",
            "Hello I am an intern at AI Cadmey , I am very excited to learn about space and AI\n",
            "13\n",
            "14\n",
            "15\n",
            "16\n",
            "17\n",
            "Hello I am an intern at AI Cadmey , I am very excited to learn about space and AI\n",
            "14\n",
            "15\n",
            "16\n",
            "17\n",
            "18\n"
          ]
        }
      ]
    },
    {
      "cell_type": "code",
      "source": [
        "for i in range(5):\n",
        "  print(i+i)\n",
        "  for j in range(5):\n",
        "    print(i+j)"
      ],
      "metadata": {
        "colab": {
          "base_uri": "https://localhost:8080/"
        },
        "id": "y7UCkgKnUGLv",
        "outputId": "e1e00631-371d-4506-bc7a-f92d789f7f46"
      },
      "execution_count": 37,
      "outputs": [
        {
          "output_type": "stream",
          "name": "stdout",
          "text": [
            "0\n",
            "0\n",
            "1\n",
            "2\n",
            "3\n",
            "4\n",
            "2\n",
            "1\n",
            "2\n",
            "3\n",
            "4\n",
            "5\n",
            "4\n",
            "2\n",
            "3\n",
            "4\n",
            "5\n",
            "6\n",
            "6\n",
            "3\n",
            "4\n",
            "5\n",
            "6\n",
            "7\n",
            "8\n",
            "4\n",
            "5\n",
            "6\n",
            "7\n",
            "8\n"
          ]
        }
      ]
    },
    {
      "cell_type": "code",
      "source": [
        "for i in range(5):\n",
        "  print(\"life at Mars\")\n",
        "  for j in range(4):\n",
        "    print(\"There could be a possibility of life at mars, we will get to know about it in the future\")"
      ],
      "metadata": {
        "colab": {
          "base_uri": "https://localhost:8080/"
        },
        "id": "hXIKKAOmWh22",
        "outputId": "399e40ff-32d9-4d64-a191-5cffccb1f197"
      },
      "execution_count": 39,
      "outputs": [
        {
          "output_type": "stream",
          "name": "stdout",
          "text": [
            "life at Mars\n",
            "There could be a possibility of life at mars, we will get to know about it in the future\n",
            "There could be a possibility of life at mars, we will get to know about it in the future\n",
            "There could be a possibility of life at mars, we will get to know about it in the future\n",
            "There could be a possibility of life at mars, we will get to know about it in the future\n",
            "life at Mars\n",
            "There could be a possibility of life at mars, we will get to know about it in the future\n",
            "There could be a possibility of life at mars, we will get to know about it in the future\n",
            "There could be a possibility of life at mars, we will get to know about it in the future\n",
            "There could be a possibility of life at mars, we will get to know about it in the future\n",
            "life at Mars\n",
            "There could be a possibility of life at mars, we will get to know about it in the future\n",
            "There could be a possibility of life at mars, we will get to know about it in the future\n",
            "There could be a possibility of life at mars, we will get to know about it in the future\n",
            "There could be a possibility of life at mars, we will get to know about it in the future\n",
            "life at Mars\n",
            "There could be a possibility of life at mars, we will get to know about it in the future\n",
            "There could be a possibility of life at mars, we will get to know about it in the future\n",
            "There could be a possibility of life at mars, we will get to know about it in the future\n",
            "There could be a possibility of life at mars, we will get to know about it in the future\n",
            "life at Mars\n",
            "There could be a possibility of life at mars, we will get to know about it in the future\n",
            "There could be a possibility of life at mars, we will get to know about it in the future\n",
            "There could be a possibility of life at mars, we will get to know about it in the future\n",
            "There could be a possibility of life at mars, we will get to know about it in the future\n"
          ]
        }
      ]
    },
    {
      "cell_type": "code",
      "source": [
        "for i in range(6):\n",
        "  print(\"SPACE EXPLORATION\")\n",
        "  for j in range(3):\n",
        "    print(i*j)"
      ],
      "metadata": {
        "colab": {
          "base_uri": "https://localhost:8080/"
        },
        "id": "oUkVgoX4XtqZ",
        "outputId": "821571df-30b3-4c84-a5fb-78cedd5584cf"
      },
      "execution_count": 40,
      "outputs": [
        {
          "output_type": "stream",
          "name": "stdout",
          "text": [
            "SPACE EXPLORATION\n",
            "0\n",
            "0\n",
            "0\n",
            "SPACE EXPLORATION\n",
            "0\n",
            "1\n",
            "2\n",
            "SPACE EXPLORATION\n",
            "0\n",
            "2\n",
            "4\n",
            "SPACE EXPLORATION\n",
            "0\n",
            "3\n",
            "6\n",
            "SPACE EXPLORATION\n",
            "0\n",
            "4\n",
            "8\n",
            "SPACE EXPLORATION\n",
            "0\n",
            "5\n",
            "10\n"
          ]
        }
      ]
    },
    {
      "cell_type": "code",
      "source": [
        "for z in range(3):\n",
        "  print(z-z)\n",
        "  for x in range(2):\n",
        "    print(x)"
      ],
      "metadata": {
        "colab": {
          "base_uri": "https://localhost:8080/"
        },
        "id": "PB5hiCpXUGXn",
        "outputId": "436d30f6-76ed-48c4-8c79-2ef68207daaf"
      },
      "execution_count": 43,
      "outputs": [
        {
          "output_type": "stream",
          "name": "stdout",
          "text": [
            "0\n",
            "0\n",
            "1\n",
            "0\n",
            "0\n",
            "1\n",
            "0\n",
            "0\n",
            "1\n"
          ]
        }
      ]
    }
  ]
}